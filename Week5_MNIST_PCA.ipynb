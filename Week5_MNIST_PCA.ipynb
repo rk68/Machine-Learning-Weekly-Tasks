{
  "cells": [
    {
      "cell_type": "code",
      "execution_count": 1,
      "metadata": {
        "id": "afmqukS-0gcg"
      },
      "outputs": [],
      "source": [
        "# Import libraries\n",
        "import matplotlib.pyplot as plt\n",
        "import numpy as np\n",
        "import math\n",
        "import time\n",
        "\n",
        "# TensorFlow and tf.keras\n",
        "import tensorflow as tf\n",
        "from tensorflow import keras\n",
        "from keras.utils import to_categorical\n",
        "from keras.models import Sequential\n",
        "from keras.layers import Conv2D, MaxPooling2D, Dropout, Flatten, Dense\n",
        "from scipy import linalg"
      ]
    },
    {
      "cell_type": "markdown",
      "metadata": {
        "id": "AydpsVd6Rekw"
      },
      "source": [
        "## Introduction\n",
        "\n",
        "In this task, principal component analysis and dimensional reduction will be used. \n",
        "\n",
        "The aim is to train a network on the MNIST dataset, then the MNIST training set into PCA components. Following this, the model will be tested on datasets using the N-best PCA components and then also trained on these datasets to see how the model performance compares."
      ]
    },
    {
      "cell_type": "markdown",
      "metadata": {
        "id": "9hnMBsOFVNS6"
      },
      "source": [
        "Firstly, the MNIST dataset will be imported and split into a train and test set."
      ]
    },
    {
      "cell_type": "code",
      "execution_count": 2,
      "metadata": {
        "id": "eqhxtsAB0mh1"
      },
      "outputs": [],
      "source": [
        "mnist = keras.datasets.mnist   #The original handwritten digit MNIST\n",
        "#mnist = keras.datasets.fashion_mnist   #A tricky version that uses images of fashion items\n",
        "(train_images1, train_labels), (test_images1, test_labels) = mnist.load_data()"
      ]
    },
    {
      "cell_type": "markdown",
      "metadata": {
        "id": "XBa8rtxxVWlO"
      },
      "source": [
        "The training and test sets will then be processed."
      ]
    },
    {
      "cell_type": "code",
      "execution_count": 3,
      "metadata": {
        "id": "ONHigHIU0uXI"
      },
      "outputs": [],
      "source": [
        "# Scale the data\n",
        "train_images = train_images1 / 255.0\n",
        "test_images = test_images1 / 255.0\n",
        "\n",
        "# Reshape the data\n",
        "train_images = train_images.reshape(-1, 28, 28, 1)\n",
        "test_images = test_images.reshape(-1, 28, 28, 1)"
      ]
    },
    {
      "cell_type": "markdown",
      "metadata": {
        "id": "dbR9_Vx5Rk9_"
      },
      "source": [
        "#### Model\n",
        "The neural network model is created. The below model was sourced from my previous (Week 4 MNIST) assignment."
      ]
    },
    {
      "cell_type": "code",
      "execution_count": 4,
      "metadata": {
        "id": "lpEwVFFh81Xt"
      },
      "outputs": [],
      "source": [
        "def generateAndTrainModel(train_images):\n",
        "    '''\n",
        "    Function to generate, compile and train the same model for a given training and/or test set\n",
        "    '''\n",
        "    # Create the model\n",
        "    model = Sequential()\n",
        "    model.add(Conv2D(6, (3, 3), activation='relu', input_shape=(28, 28, 1)))\n",
        "    model.add(MaxPooling2D((2, 2)))\n",
        "    model.add(Dropout(0.25)),\n",
        "    model.add(Flatten()),\n",
        "    model.add(Dense(10, activation='softmax'))\n",
        "    model.compile(optimizer='adam', loss='sparse_categorical_crossentropy', metrics=['accuracy'])\n",
        "    history = model.fit(train_images, train_labels, batch_size=32, epochs=10, verbose=1, validation_data=(test_images, test_labels))\n",
        "    return model"
      ]
    },
    {
      "cell_type": "markdown",
      "metadata": {
        "id": "06PBXX_e05Um"
      },
      "source": [
        "#### Training\n",
        "Training the model on the original training data."
      ]
    },
    {
      "cell_type": "code",
      "execution_count": 5,
      "metadata": {
        "colab": {
          "base_uri": "https://localhost:8080/"
        },
        "id": "DSCWZKPG08Ct",
        "outputId": "598af1b7-77a2-40ad-9d73-5d75e26a3cf9"
      },
      "outputs": [
        {
          "output_type": "stream",
          "name": "stdout",
          "text": [
            "Epoch 1/10\n",
            "1875/1875 [==============================] - 35s 17ms/step - loss: 0.4153 - accuracy: 0.8765 - val_loss: 0.2352 - val_accuracy: 0.9349\n",
            "Epoch 2/10\n",
            "1875/1875 [==============================] - 23s 12ms/step - loss: 0.2578 - accuracy: 0.9241 - val_loss: 0.1783 - val_accuracy: 0.9514\n",
            "Epoch 3/10\n",
            "1875/1875 [==============================] - 23s 12ms/step - loss: 0.2062 - accuracy: 0.9384 - val_loss: 0.1429 - val_accuracy: 0.9590\n",
            "Epoch 4/10\n",
            "1875/1875 [==============================] - 23s 12ms/step - loss: 0.1686 - accuracy: 0.9497 - val_loss: 0.1111 - val_accuracy: 0.9699\n",
            "Epoch 5/10\n",
            "1875/1875 [==============================] - 25s 13ms/step - loss: 0.1388 - accuracy: 0.9590 - val_loss: 0.0983 - val_accuracy: 0.9711\n",
            "Epoch 6/10\n",
            "1875/1875 [==============================] - 23s 12ms/step - loss: 0.1251 - accuracy: 0.9630 - val_loss: 0.0841 - val_accuracy: 0.9745\n",
            "Epoch 7/10\n",
            "1875/1875 [==============================] - 24s 13ms/step - loss: 0.1135 - accuracy: 0.9657 - val_loss: 0.0843 - val_accuracy: 0.9745\n",
            "Epoch 8/10\n",
            "1875/1875 [==============================] - 23s 12ms/step - loss: 0.1063 - accuracy: 0.9674 - val_loss: 0.0745 - val_accuracy: 0.9777\n",
            "Epoch 9/10\n",
            "1875/1875 [==============================] - 22s 12ms/step - loss: 0.1012 - accuracy: 0.9696 - val_loss: 0.0704 - val_accuracy: 0.9792\n",
            "Epoch 10/10\n",
            "1875/1875 [==============================] - 24s 13ms/step - loss: 0.0963 - accuracy: 0.9700 - val_loss: 0.0687 - val_accuracy: 0.9787\n",
            "Test Accuracy: 0.9786999821662903\n"
          ]
        }
      ],
      "source": [
        "model = generateAndTrainModel(train_images)\n",
        "test_loss, test_accuracy = model.evaluate(test_images, test_labels, verbose=0)\n",
        "print(f\"Test Accuracy: {test_accuracy}\")"
      ]
    },
    {
      "cell_type": "markdown",
      "metadata": {
        "id": "NgXLJ-WKVkif"
      },
      "source": [
        "#### Decomposing into PCA components\n",
        "Next, the MNIST training dataset is decomposed into its PCA components, as shown in the cell below."
      ]
    },
    {
      "cell_type": "code",
      "execution_count": 6,
      "metadata": {
        "id": "_7c6MkEo81X3"
      },
      "outputs": [],
      "source": [
        "def decomposePCA(image_set):\n",
        "    \n",
        "    ''' \n",
        "    Function that decomposes the given image dataset into its PCA components, printing the shape of each parameter\n",
        "    Inputs: image_set\n",
        "    Outputs: x, vecs, vals\n",
        "    '''\n",
        "    \n",
        "    print(\"InputImages.shape: \",np.shape(image_set))\n",
        "    X=np.reshape(image_set,(len(image_set),784))\n",
        "    print(\"X.shape:\",np.shape(X))\n",
        "    mu=np.mean(X,axis=0)\n",
        "    x=X-mu\n",
        "    \n",
        "    # Make the covaraince matrix by np.cov\n",
        "    rho=np.cov(x,rowvar=False) \n",
        "    print(\"rho.shape:\",np.shape(rho))\n",
        "\n",
        "    #Get the eigenvalues and vectors\n",
        "    vals,vecs=linalg.eigh(rho)\n",
        "    \n",
        "    #vals is a 1-D array of the eigenvalues in ascending order, vecs is a columnwise array of the normalised\n",
        "    # eigenvectors such that vecs[:,i] is the eigenvector correspondong to vals[i]\n",
        "    print(\"vecs.shape:\",np.shape(vecs))\n",
        "    print(\"vals.shape:\",np.shape(vals))\n",
        "    vecs=np.flip(vecs)\n",
        "    vals=np.flip(vals)\n",
        "    \n",
        "    return x, X, vecs, vals, mu"
      ]
    },
    {
      "cell_type": "code",
      "execution_count": 7,
      "metadata": {
        "colab": {
          "base_uri": "https://localhost:8080/"
        },
        "id": "McwVttsX81X5",
        "outputId": "7fb29df6-89d5-4844-c0b5-4d249f92b448"
      },
      "outputs": [
        {
          "output_type": "stream",
          "name": "stdout",
          "text": [
            "InputImages.shape:  (60000, 28, 28, 1)\n",
            "X.shape: (60000, 784)\n",
            "rho.shape: (784, 784)\n",
            "vecs.shape: (784, 784)\n",
            "vals.shape: (784,)\n"
          ]
        }
      ],
      "source": [
        "# For the training set\n",
        "x, X, vecs, vals, mu = decomposePCA(train_images)"
      ]
    },
    {
      "cell_type": "code",
      "execution_count": 8,
      "metadata": {
        "colab": {
          "base_uri": "https://localhost:8080/"
        },
        "id": "dwIbUZ4f81X7",
        "outputId": "d7e19e54-ef99-4108-d359-8befcda6f009"
      },
      "outputs": [
        {
          "output_type": "stream",
          "name": "stdout",
          "text": [
            "InputImages.shape:  (10000, 28, 28, 1)\n",
            "X.shape: (10000, 784)\n",
            "rho.shape: (784, 784)\n",
            "vecs.shape: (784, 784)\n",
            "vals.shape: (784,)\n"
          ]
        }
      ],
      "source": [
        "# For the test set\n",
        "x, X, vecs, vals, mu = decomposePCA(test_images)"
      ]
    },
    {
      "cell_type": "markdown",
      "metadata": {
        "id": "HzjMAiDsV7Li"
      },
      "source": [
        "#### New Testing Dataset\n",
        "Next, several image datasets have been created from the test set, up to the dimension (N)."
      ]
    },
    {
      "cell_type": "code",
      "execution_count": 9,
      "metadata": {
        "colab": {
          "base_uri": "https://localhost:8080/"
        },
        "id": "R-_dWxBM81X-",
        "outputId": "8d4bdb04-b3c8-4b7e-bce9-75e456382373"
      },
      "outputs": [
        {
          "output_type": "stream",
          "name": "stdout",
          "text": [
            "x.shape: (10000, 784)\n",
            "P.shape: (10000, 784)\n"
          ]
        }
      ],
      "source": [
        "# PCA\n",
        "P = x.dot(vecs)\n",
        "print(\"x.shape:\", x.shape)\n",
        "print(\"P.shape:\", P.shape)\n",
        "\n",
        "# No. of components\n",
        "components = [2, 10, 20, 30, 40, 50, 60, 70, 80, 90, 100,110, 120,130, 140,150,160,170,180,190, 200, 500, 784]\n",
        "#components = [2, 10, 20, 30, 40, 50, 60, 70, 80, 90, 100]\n",
        "\n",
        "# Generate image sets\n",
        "newTestImages = []\n",
        "\n",
        "# Loop\n",
        "for c in components:\n",
        "    img = P[:, :c].dot(vecs.T[:c, :]) + mu\n",
        "    newTestImages.append(img)"
      ]
    },
    {
      "cell_type": "markdown",
      "metadata": {
        "id": "_y3BcMzW81X_"
      },
      "source": [
        "Below, we can plot these testing datasets."
      ]
    },
    {
      "cell_type": "code",
      "execution_count": 10,
      "metadata": {
        "colab": {
          "base_uri": "https://localhost:8080/",
          "height": 154
        },
        "id": "GeScl1xz81YB",
        "outputId": "b19a3c77-08cb-4f21-df3e-6e0cdf5aed3a"
      },
      "outputs": [
        {
          "output_type": "display_data",
          "data": {
            "text/plain": [
              "<Figure size 1440x360 with 23 Axes>"
            ],
            "image/png": "[encoded data removed]"
          },
          "metadata": {
            "needs_background": "light"
          }
        }
      ],
      "source": [
        "# Plotting a sample of each of the PCA component sets\n",
        "fig, ax = plt.subplots(1, len(newTestImages), figsize=(20, 5))\n",
        "\n",
        "# Loop over image sets\n",
        "for i, img in enumerate(newTestImages):\n",
        "    ax[i].imshow(np.flipud(img[7].reshape([28, 28])), origin='lower', cmap='binary', interpolation='nearest')\n",
        "    ax[i].set_title(f\"{components[i]}\", fontsize=14)\n",
        "    ax[i].axis('off')\n",
        "\n",
        "# Plotting\n",
        "plt.subplots_adjust(wspace=0.1, top=0.9, bottom=0.5)\n",
        "plt.suptitle(\"Reconstructed Images\", fontsize=16)\n",
        "plt.show()"
      ]
    },
    {
      "cell_type": "markdown",
      "metadata": {
        "id": "_qQA4yoZfi8d"
      },
      "source": [
        "Reshaping the test image datasets.\n",
        "\n",
        "For the model to be able to read the test images, it must be reshaped as seen below."
      ]
    },
    {
      "cell_type": "code",
      "execution_count": 11,
      "metadata": {
        "id": "d4TXiRF30_fw"
      },
      "outputs": [],
      "source": [
        "# Reshape test images so they can be fed into the convolutional layer\n",
        "newTestImages_im = [np.reshape(newTestImage, (10000, 28, 28, 1)) for newTestImage in newTestImages]"
      ]
    },
    {
      "cell_type": "markdown",
      "metadata": {
        "id": "TucIMoOTfmeV"
      },
      "source": [
        "#### Test accuracies\n",
        "Below we can evaluate the model on each of the test datasets, with PCs from 2 to 784 (all)."
      ]
    },
    {
      "cell_type": "code",
      "execution_count": 12,
      "metadata": {
        "id": "h0Rlkscg81YF"
      },
      "outputs": [],
      "source": [
        "def testAccuracies(model, test_sets):\n",
        "    '''\n",
        "    Function that evaluates a given model's test accuracy on test datasets with different number of PCA components\n",
        "    Inputs: model, test_sets\n",
        "    Outputs: testAccs (array of test accuracies)\n",
        "    '''\n",
        "    # Initialise\n",
        "    testAccs = []\n",
        "    \n",
        "    #Loop over test sets\n",
        "    for newTestImage_im in newTestImages_im:\n",
        "      loss, test_acc = model.evaluate(newTestImage_im, test_labels, verbose=0)\n",
        "      testAccs.append(test_acc)\n",
        "        \n",
        "    # Test accuracies\n",
        "    return testAccs"
      ]
    },
    {
      "cell_type": "code",
      "execution_count": 13,
      "metadata": {
        "id": "E5DSdjDQF52b"
      },
      "outputs": [],
      "source": [
        "testAccs = testAccuracies(model, newTestImages_im)"
      ]
    },
    {
      "cell_type": "markdown",
      "metadata": {
        "id": "PyJF5uq-fz45"
      },
      "source": [
        "#### Plotting \n",
        "Plotting the test accuracy against the number of PCs included in the dataset."
      ]
    },
    {
      "cell_type": "code",
      "execution_count": 14,
      "metadata": {
        "colab": {
          "base_uri": "https://localhost:8080/",
          "height": 313
        },
        "id": "M7rmLYibQD12",
        "outputId": "780430bd-2862-4151-dba3-b5dfd9c20613"
      },
      "outputs": [
        {
          "output_type": "execute_result",
          "data": {
            "text/plain": [
              "[<matplotlib.lines.Line2D at 0x7fbf85290d60>]"
            ]
          },
          "metadata": {},
          "execution_count": 14
        },
        {
          "output_type": "display_data",
          "data": {
            "text/plain": [
              "<Figure size 432x288 with 1 Axes>"
            ],
            "image/png": "[encoded data removed]"
          },
          "metadata": {
            "needs_background": "light"
          }
        }
      ],
      "source": [
        "# Plotting\n",
        "plt.figure()\n",
        "plt.title('Test Accuracy vs No. of PCA Components')\n",
        "plt.xlabel('PCA Components')\n",
        "plt.ylabel('Test Accuracy')\n",
        "plt.plot(components, testAccs)"
      ]
    },
    {
      "cell_type": "markdown",
      "metadata": {
        "id": "TpEBovTmf_vd"
      },
      "source": [
        "#### Observations\n",
        "In the above plot, it can be observed that the test accuracy sharply increases as we reach 100 principal components, beyond which it remains fairly constant. Before 100 PCs, the accuracy is very low (< 0.3). This makes sense if we view the images for each number of PCs. From 2 PCs to 50 PCs, the images are fairly difficult to identify numbers from by eye, and appear quite blurry - which matches what we observe (low test accuracy for these datasets). \n",
        "\n",
        "We can also see that in comparison to the previous plot, the accuracy at lower PCA components has improved (especially in the region of 0 to 100 components). However, at approximately the 300 component point and beyond, the accuracy becomes slightly lower than the previous plot. This suggests the model may be overfitting to the 100 component data, and therefore loses some performance on the original data set with all components.\n",
        "\n"
      ]
    },
    {
      "cell_type": "markdown",
      "metadata": {
        "id": "ZjxzUr4YgsBS"
      },
      "source": [
        "#### New Training Dataset\n",
        "Next, a new training dataset will be made using the 100-best PCA components."
      ]
    },
    {
      "cell_type": "code",
      "execution_count": 15,
      "metadata": {
        "colab": {
          "base_uri": "https://localhost:8080/"
        },
        "id": "MThxmUy53sfU",
        "outputId": "44c8f228-8b39-40f0-8e0f-687ba53d2a92"
      },
      "outputs": [
        {
          "output_type": "stream",
          "name": "stdout",
          "text": [
            "InputImages.shape:  (60000, 28, 28, 1)\n",
            "X.shape: (60000, 784)\n",
            "rho.shape: (784, 784)\n",
            "vecs.shape: (784, 784)\n",
            "vals.shape: (784,)\n"
          ]
        }
      ],
      "source": [
        "# For the training set\n",
        "x, X, vecs, vals, mu = decomposePCA(train_images)"
      ]
    },
    {
      "cell_type": "markdown",
      "metadata": {
        "id": "qxG7vEPrg4YE"
      },
      "source": [
        "#### Generate the training set\n",
        "The training set with the 100 best PCAs is generated below."
      ]
    },
    {
      "cell_type": "code",
      "execution_count": 16,
      "metadata": {
        "colab": {
          "base_uri": "https://localhost:8080/"
        },
        "id": "ARmgqsC6PSm7",
        "outputId": "c25073ec-5477-4eac-d33b-aae089e51f7a"
      },
      "outputs": [
        {
          "output_type": "stream",
          "name": "stdout",
          "text": [
            "x.shape: (60000, 784)\n",
            "P.shape: (60000, 784)\n"
          ]
        }
      ],
      "source": [
        "# PCA\n",
        "P=np.dot(x,vecs)\n",
        "print(\"x.shape:\",x.shape)\n",
        "print(\"P.shape:\",P.shape)\n",
        "newTrainImage100=(np.dot(P[:,0:100],vecs.T[0:100,:]))+mu\n",
        "newTrainImage100_im = np.reshape(newTrainImage100, (60000, 28, 28, 1))"
      ]
    },
    {
      "cell_type": "markdown",
      "metadata": {
        "id": "-9a5_aqJhPiZ"
      },
      "source": [
        "#### Model Training\n",
        "A new model is created (with the same parameters and layers as the initial model). The model is then trained on the new 100 PCA training set."
      ]
    },
    {
      "cell_type": "code",
      "execution_count": 17,
      "metadata": {
        "id": "aAcw_szWSLz9",
        "colab": {
          "base_uri": "https://localhost:8080/"
        },
        "outputId": "ad85f57f-d442-47ef-f52e-97c6e3fd4b62"
      },
      "outputs": [
        {
          "output_type": "stream",
          "name": "stdout",
          "text": [
            "Epoch 1/10\n",
            "1875/1875 [==============================] - 24s 12ms/step - loss: 0.3929 - accuracy: 0.8870 - val_loss: 0.1726 - val_accuracy: 0.9483\n",
            "Epoch 2/10\n",
            "1875/1875 [==============================] - 23s 13ms/step - loss: 0.1884 - accuracy: 0.9434 - val_loss: 0.1313 - val_accuracy: 0.9613\n",
            "Epoch 3/10\n",
            "1875/1875 [==============================] - 22s 12ms/step - loss: 0.1568 - accuracy: 0.9523 - val_loss: 0.1150 - val_accuracy: 0.9641\n",
            "Epoch 4/10\n",
            "1875/1875 [==============================] - 20s 11ms/step - loss: 0.1418 - accuracy: 0.9559 - val_loss: 0.1099 - val_accuracy: 0.9656\n",
            "Epoch 5/10\n",
            "1875/1875 [==============================] - 21s 11ms/step - loss: 0.1320 - accuracy: 0.9585 - val_loss: 0.1071 - val_accuracy: 0.9662\n",
            "Epoch 6/10\n",
            "1875/1875 [==============================] - 21s 11ms/step - loss: 0.1245 - accuracy: 0.9618 - val_loss: 0.1009 - val_accuracy: 0.9676\n",
            "Epoch 7/10\n",
            "1875/1875 [==============================] - 20s 11ms/step - loss: 0.1177 - accuracy: 0.9628 - val_loss: 0.0989 - val_accuracy: 0.9697\n",
            "Epoch 8/10\n",
            "1875/1875 [==============================] - 23s 12ms/step - loss: 0.1092 - accuracy: 0.9663 - val_loss: 0.1026 - val_accuracy: 0.9689\n",
            "Epoch 9/10\n",
            "1875/1875 [==============================] - 22s 12ms/step - loss: 0.1073 - accuracy: 0.9668 - val_loss: 0.0944 - val_accuracy: 0.9711\n",
            "Epoch 10/10\n",
            "1875/1875 [==============================] - 21s 11ms/step - loss: 0.1048 - accuracy: 0.9677 - val_loss: 0.0968 - val_accuracy: 0.9706\n"
          ]
        }
      ],
      "source": [
        "model2 = generateAndTrainModel(newTrainImage100_im)"
      ]
    },
    {
      "cell_type": "markdown",
      "metadata": {
        "id": "sBzIh3JBhhVC"
      },
      "source": [
        "#### Test accuracies\n",
        "The test accuracies are evaluated on the new model, for a range of different number of PCs in the test set."
      ]
    },
    {
      "cell_type": "code",
      "execution_count": 18,
      "metadata": {
        "id": "sNPWT7aveamL"
      },
      "outputs": [],
      "source": [
        "# Evaluate the test accuracies for each of the test sets\n",
        "testAccs2 = testAccuracies(model2, newTestImages_im)"
      ]
    },
    {
      "cell_type": "code",
      "execution_count": 19,
      "metadata": {
        "colab": {
          "base_uri": "https://localhost:8080/"
        },
        "id": "mA327xvHeqLg",
        "outputId": "7d8b9e65-7c8e-4bb2-89c4-60d728f13790"
      },
      "outputs": [
        {
          "output_type": "stream",
          "name": "stdout",
          "text": [
            "[0.16200000047683716, 0.5342000126838684, 0.7508999705314636, 0.8806999921798706, 0.9372000098228455, 0.9585000276565552, 0.9664999842643738, 0.9728000164031982, 0.9768000245094299, 0.9768999814987183, 0.9781000018119812, 0.9768999814987183, 0.9771000146865845, 0.9776999950408936, 0.9771999716758728, 0.9771000146865845, 0.9768000245094299, 0.9769999980926514, 0.9764999747276306, 0.9761999845504761, 0.9750999808311462, 0.9706000089645386, 0.9706000089645386]\n"
          ]
        }
      ],
      "source": [
        " # View accuracies\n",
        " print(testAccs2)"
      ]
    },
    {
      "cell_type": "markdown",
      "metadata": {
        "id": "CDdRFq2Ph5Mf"
      },
      "source": [
        "#### Plotting"
      ]
    },
    {
      "cell_type": "code",
      "execution_count": 20,
      "metadata": {
        "colab": {
          "base_uri": "https://localhost:8080/",
          "height": 313
        },
        "id": "8fXVgQzWbO26",
        "outputId": "a4e89f3a-89c0-4a6a-dae2-c1fa270bdb2a"
      },
      "outputs": [
        {
          "output_type": "execute_result",
          "data": {
            "text/plain": [
              "[<matplotlib.lines.Line2D at 0x7fbf850731f0>]"
            ]
          },
          "metadata": {},
          "execution_count": 20
        },
        {
          "output_type": "display_data",
          "data": {
            "text/plain": [
              "<Figure size 432x288 with 1 Axes>"
            ],
            "image/png": "[encoded data removed]"
          },
          "metadata": {
            "needs_background": "light"
          }
        }
      ],
      "source": [
        "plt.figure()\n",
        "plt.title('Test Accuracy vs No. of PCA Components')\n",
        "plt.xlabel('PCA Components')\n",
        "plt.ylabel('Test Accuracy')\n",
        "#plt.legend()\n",
        "plt.plot(components, testAccs2)"
      ]
    },
    {
      "cell_type": "markdown",
      "metadata": {
        "id": "PeLqFS_-k2Bd"
      },
      "source": [
        "#### Observations\n",
        "In the above plot, it can be seen that it follows a very similar shape to the previous plot. However, comparing the two shows that the accuracy on smaller no. of PCs datasets has vastly improved. This suggests that training the model on lower PC training datasets would improve its performance on lower PC test datasets.\n",
        "\n",
        "One other observation was that there was a slight decline in test accuracy beyond 100 components. This may be due to the model overfitting on the lower PC training data. Therefore it may be useful to remember that the no. of PCs in training should ideally look similar to the images we will be using for testing."
      ]
    },
    {
      "cell_type": "markdown",
      "metadata": {
        "id": "u2DGcGCNledp"
      },
      "source": [
        "#### Training on the best 20 components\n",
        "Finally, we will train a model on the best 20 principal components and view the performance."
      ]
    },
    {
      "cell_type": "code",
      "execution_count": 21,
      "metadata": {
        "colab": {
          "base_uri": "https://localhost:8080/"
        },
        "id": "2fymPfSLcjEx",
        "outputId": "d26d2b6e-7ba9-4469-c773-3ab0a9bea525"
      },
      "outputs": [
        {
          "output_type": "stream",
          "name": "stdout",
          "text": [
            "x.shape: (60000, 784)\n",
            "P.shape: (60000, 784)\n"
          ]
        }
      ],
      "source": [
        "# PCA\n",
        "P=np.dot(x,vecs)\n",
        "print(\"x.shape:\",x.shape)\n",
        "print(\"P.shape:\",P.shape)\n",
        "newTrainImage20=(np.dot(P[:,0:20],vecs.T[0:20,:]))+mu\n",
        "newTrainImage20_im = np.reshape(newTrainImage20, (60000, 28, 28, 1))"
      ]
    },
    {
      "cell_type": "code",
      "execution_count": 22,
      "metadata": {
        "colab": {
          "base_uri": "https://localhost:8080/"
        },
        "id": "K91ScHRi81YT",
        "outputId": "4246e486-93dc-49d1-ef91-0aa5e980bfbb"
      },
      "outputs": [
        {
          "output_type": "stream",
          "name": "stdout",
          "text": [
            "Epoch 1/10\n",
            "1875/1875 [==============================] - 22s 11ms/step - loss: 0.4813 - accuracy: 0.8571 - val_loss: 0.6101 - val_accuracy: 0.8087\n",
            "Epoch 2/10\n",
            "1875/1875 [==============================] - 22s 12ms/step - loss: 0.2980 - accuracy: 0.9084 - val_loss: 0.7287 - val_accuracy: 0.7684\n",
            "Epoch 3/10\n",
            "1875/1875 [==============================] - 20s 11ms/step - loss: 0.2657 - accuracy: 0.9183 - val_loss: 0.7824 - val_accuracy: 0.7571\n",
            "Epoch 4/10\n",
            "1875/1875 [==============================] - 21s 11ms/step - loss: 0.2453 - accuracy: 0.9250 - val_loss: 0.8377 - val_accuracy: 0.7498\n",
            "Epoch 5/10\n",
            "1875/1875 [==============================] - 22s 11ms/step - loss: 0.2317 - accuracy: 0.9287 - val_loss: 0.8797 - val_accuracy: 0.7416\n",
            "Epoch 6/10\n",
            "1875/1875 [==============================] - 20s 11ms/step - loss: 0.2229 - accuracy: 0.9310 - val_loss: 0.8800 - val_accuracy: 0.7467\n",
            "Epoch 7/10\n",
            "1875/1875 [==============================] - 24s 13ms/step - loss: 0.2138 - accuracy: 0.9344 - val_loss: 0.8967 - val_accuracy: 0.7520\n",
            "Epoch 8/10\n",
            "1875/1875 [==============================] - 22s 12ms/step - loss: 0.2075 - accuracy: 0.9362 - val_loss: 0.9232 - val_accuracy: 0.7484\n",
            "Epoch 9/10\n",
            "1875/1875 [==============================] - 20s 11ms/step - loss: 0.2008 - accuracy: 0.9383 - val_loss: 1.0657 - val_accuracy: 0.7218\n",
            "Epoch 10/10\n",
            "1875/1875 [==============================] - 22s 12ms/step - loss: 0.1986 - accuracy: 0.9376 - val_loss: 1.0328 - val_accuracy: 0.7350\n"
          ]
        }
      ],
      "source": [
        "model3 = generateAndTrainModel(newTrainImage20_im)"
      ]
    },
    {
      "cell_type": "code",
      "execution_count": 23,
      "metadata": {
        "id": "p9kmMyT5cPQW"
      },
      "outputs": [],
      "source": [
        "# Evaluate the test accuracies for each of the test sets\n",
        "testAccs3 = testAccuracies(model3, newTestImages_im)"
      ]
    },
    {
      "cell_type": "code",
      "execution_count": 24,
      "metadata": {
        "colab": {
          "base_uri": "https://localhost:8080/",
          "height": 313
        },
        "id": "l8CDmwXAm6Zs",
        "outputId": "e7a7f544-47dd-44c9-ebfc-3e6980c549e1"
      },
      "outputs": [
        {
          "output_type": "execute_result",
          "data": {
            "text/plain": [
              "[<matplotlib.lines.Line2D at 0x7fbf84f18cd0>]"
            ]
          },
          "metadata": {},
          "execution_count": 24
        },
        {
          "output_type": "display_data",
          "data": {
            "text/plain": [
              "<Figure size 432x288 with 1 Axes>"
            ],
            "image/png": "[encoded data removed]"
          },
          "metadata": {
            "needs_background": "light"
          }
        }
      ],
      "source": [
        "plt.figure()\n",
        "plt.title('Test Accuracy vs No. of PCA Components')\n",
        "plt.xlabel('PCA Components')\n",
        "plt.ylabel('Test Accuracy')\n",
        "plt.plot(components, testAccs3)"
      ]
    },
    {
      "cell_type": "markdown",
      "metadata": {
        "id": "6m3-4OMwoINo"
      },
      "source": [
        "#### Observations\n",
        "In the above plot, it can be observed that training on 20 PCA component data, leads to a sharp improvement in accuracy for 20 PCA component test set (~0.95 accuracy). However, as the test set components increase beyond 20, there is a sharp drop off in accuracy as seen above. This suggests there is quite high overfitting of the model to 20 component data, especially as we see the accuracy towards 784 components drop off to around 0.85, compared to 0.95+ in the original model trained on the original MNIST dataset."
      ]
    },
    {
      "cell_type": "code",
      "execution_count": 25,
      "metadata": {
        "colab": {
          "base_uri": "https://localhost:8080/",
          "height": 313
        },
        "id": "v0er2Tq-81YY",
        "outputId": "1083e97c-10d2-4abf-8e66-0839224a4abb"
      },
      "outputs": [
        {
          "output_type": "execute_result",
          "data": {
            "text/plain": [
              "<matplotlib.legend.Legend at 0x7fbf84da7100>"
            ]
          },
          "metadata": {},
          "execution_count": 25
        },
        {
          "output_type": "display_data",
          "data": {
            "text/plain": [
              "<Figure size 432x288 with 1 Axes>"
            ],
            "image/png": "[encoded data removed]"
          },
          "metadata": {
            "needs_background": "light"
          }
        }
      ],
      "source": [
        "#Plotting\n",
        "plt.figure()\n",
        "plt.title('Test Accuracy vs No. of PCA Components')\n",
        "plt.xlabel('PCA Components')\n",
        "plt.ylabel('Test Accuracy')\n",
        "plt.plot(components, testAccs, label='No PCAs')\n",
        "plt.plot(components, testAccs2, label='100 PCAs')\n",
        "plt.plot(components, testAccs3, label='20 PCAs')\n",
        "plt.legend()"
      ]
    },
    {
      "cell_type": "code",
      "execution_count": 26,
      "metadata": {
        "colab": {
          "base_uri": "https://localhost:8080/"
        },
        "id": "rkU80Jel81Ya",
        "outputId": "5c056cb1-ba82-4d74-e673-99f5a2a78b74"
      },
      "outputs": [
        {
          "output_type": "stream",
          "name": "stdout",
          "text": [
            "No. of components      |  Average Test Accuracy\n",
            "-----------------------|--------------------------\n",
            "0                      |    0.8135739176169686\n",
            "100                    |    0.9044956513073134\n",
            "20                     |    0.7821260885052059\n"
          ]
        }
      ],
      "source": [
        "# Calculate average accuracies\n",
        "avgAcc = np.mean(testAccs)\n",
        "avgAcc2 = np.mean(testAccs2)\n",
        "avgAcc3 = np.mean(testAccs3)\n",
        "\n",
        "# Components vs test accuracy\n",
        "print(\"No. of components      |  Average Test Accuracy\")\n",
        "print(\"-----------------------|--------------------------\")\n",
        "print(f\"0                      |    {avgAcc}\")\n",
        "print(f\"100                    |    {avgAcc2}\")\n",
        "print(f\"20                     |    {avgAcc3}\")"
      ]
    },
    {
      "cell_type": "markdown",
      "metadata": {
        "id": "4JDkdHZ4or0h"
      },
      "source": [
        "#### Conclusion\n",
        "To conclude, it appears that training the model on 100 PCA component data is likely the best option out of training on the original data, 100 components and 20 components. This is because it provides the most general high accuracy (as shown above), with 90%+ accuracy for components of around 40 and above.\n",
        "\n",
        "Looking at the average test accuracy across each of the N-component test sets, it can be seen that the model trained on 100 component data had the highest average accuracy of approximately 0.90 - 0.91, compared to 0.84 for 20 components and 0.836 for 0 components. So therefore, in addition to having the most general accuracy (when looking at the distribution of accuracies on the plot), it also has the highest average accuracy overall. This is in comparison especially with the 20 component model, which clearly shows a peak in accuracy for 20 component test data, which is likely skewing its average higher as well, even though we cannot generalise this performance. \n",
        "\n",
        "Overall, the best training set to use for a model really depends on what the test data will look like. However, it seems that for most cases 100 component training data is the best, though in specific instances such as if the test data is mostly 20 component data, then training on 20 components will be best.\n",
        "\n"
      ]
    }
  ],
  "metadata": {
    "colab": {
      "provenance": []
    },
    "kernelspec": {
      "display_name": "Python 3",
      "language": "python",
      "name": "python3"
    },
    "language_info": {
      "codemirror_mode": {
        "name": "ipython",
        "version": 3
      },
      "file_extension": ".py",
      "mimetype": "text/x-python",
      "name": "python",
      "nbconvert_exporter": "python",
      "pygments_lexer": "ipython3",
      "version": "3.6.10"
    }
  },
  "nbformat": 4,
  "nbformat_minor": 0
}