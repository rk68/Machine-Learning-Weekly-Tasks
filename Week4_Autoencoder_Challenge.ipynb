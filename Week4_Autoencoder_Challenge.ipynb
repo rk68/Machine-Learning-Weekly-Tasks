{
 "cells": [
  {
   "cell_type": "markdown",
   "metadata": {
    "id": "VfTup_svoHa3"
   },
   "source": [
    "# Practical Machine Learning for Physicists\n",
    "## Week 4 Exercise - Part 2\n"
   ]
  },
  {
   "cell_type": "markdown",
   "metadata": {
    "id": "rFQXjQrFoHbA"
   },
   "source": [
    "For both of these tasks we want you to implement autoencoder networks that:\n",
    "- Train on randomly generated circles (using the circle_generator function below)\n",
    "- Use 27x27 pixel images\n",
    "- Use no more than 30,000 randomly generated samples (e.g. batchsize 30 and 1000 steps, or batchsize 1000 and 30 steps, or anywhere inbetween) in training the final networks for each task\n",
    "- Use the mean_squared_error loss function\n",
    "- Fulfil the network size requirement listed in the task (can be verifired using the print_layers function, after the network is partially trained)\n",
    "\n",
    "### Task 1:\n",
    "Implement any network design, but the bottleneck must contain no more than 9 neurons.\n",
    "\n",
    "### Task 2:\n",
    "Implement any network design, but the bottleneck must contain no more than 3 neurons.\n",
    "\n",
    "\n",
    "#### Practicalities\n",
    "You should use this notebook for your work and upload it to both Moodle and CoCalc. You are expected to use TensorFlow and Keras to complete these tasks. The notebook should be self-contained and able to be executed if necessary. Marks will be awarded for (roughly equally weighted):\n",
    "- Overall notebook clarity (both in terms of good coding practice and coherent discussion)\n",
    "- Task 1 performance (0.02 is a good target cost to do better than)\n",
    "- Task 2 performance ( a good target here is left for the student to determine)\n"
   ]
  },
  {
   "cell_type": "code",
   "execution_count": 1,
   "metadata": {
    "id": "lRttzAy4oHbJ"
   },
   "outputs": [],
   "source": [
    "# Import Libraries\n",
    "import matplotlib.pyplot as plt\n",
    "import numpy as np\n",
    "import math\n",
    "import time\n",
    "import tensorflow as tf\n",
    "from tensorflow import keras\n",
    "import cv2"
   ]
  },
  {
   "cell_type": "code",
   "execution_count": 2,
   "metadata": {
    "id": "h3p0gK6loHbR"
   },
   "outputs": [],
   "source": [
    "#A big messy function to do the training\n",
    "# model -- our keras neural model autoencoder\n",
    "# image_generator -- a function to generate random images for the training (see below for examples)\n",
    "# img_size -- the size of our image in pixels\n",
    "# batchsize -- the number of images to include in each training batch\n",
    "# steps -- the number of steps taken in the training\n",
    "#\n",
    "# returns an array of the costs\n",
    "def generate_and_train(model,image_generator,img_size,batchsize,steps):\n",
    "   \n",
    "    #Generate an array of the numbers 1 to img_size and create a meshgrid from them    \n",
    "    pixels=np.linspace(-1,1,img_size)\n",
    "    x,y=np.meshgrid(pixels,pixels)\n",
    "    \n",
    "    #Now create a test image using 1 call to image_generator\n",
    "    #y_test=np.zeros([1,pixels,pixels,1])\n",
    "    #y_test[:,:,:,0]=image_generator(1,x,y)\n",
    "    \n",
    "    #Now create the empty arrays for the images and cost\n",
    "    y_in=np.zeros([batchsize,img_size,img_size,1])\n",
    "    y_target=np.zeros([batchsize,img_size,img_size,1])\n",
    "    cost=np.zeros(steps)\n",
    "    \n",
    "    #Loop through the steps, get a random batch of samples, train the model, repeat\n",
    "    for k in range(steps):\n",
    "        # produce samples:\n",
    "        y_in[:,:,:,0]=image_generator(batchsize,x,y)\n",
    "        y_target=np.copy(y_in) # autoencoder wants to reproduce its input!\n",
    "        \n",
    "        # do one training step on this batch of samples:\n",
    "        cost[k]=model.train_on_batch(y_in,y_target)\n",
    "    \n",
    "    return cost,y_target\n",
    "\n",
    "def get_test_image(image_generator,img_size):\n",
    "    #Generate an array of the numbers 1 to img_size and create a meshgrid from them    \n",
    "    pixels=np.linspace(-1,1,img_size)\n",
    "    x,y=np.meshgrid(pixels,pixels)\n",
    "    \n",
    "    #Now create a test image using 1 call to image_generator\n",
    "    y_test=np.zeros([1,img_size,img_size,1])\n",
    "    y_test[:,:,:,0]=image_generator(1,x,y)\n",
    "    return y_test\n",
    "\n",
    "# A function to generate and plot a single test image and the output of our model\n",
    "# only to be called after training the model\n",
    "def plot_test_image(model,image_generator,img_size):\n",
    "    #Get random test image\n",
    "    y_test=get_test_image(image_generator,img_size)\n",
    "    \n",
    "    #Create the output image\n",
    "    y_test_out=model.predict_on_batch(y_test)\n",
    "    fig, ax = plt.subplots(1,2)\n",
    "    ax[0].imshow(y_test[0,:,:,0],origin='lower')\n",
    "    ax[0].set_title(\"Input\")\n",
    "    ax[1].imshow(y_test_out[0,:,:,0],origin='lower')\n",
    "    ax[1].set_title(\"Output\")\n",
    "    \n",
    "def print_layers(network, y_in):\n",
    "    \"\"\"\n",
    "    Call this on some test images y_in, to get a print-out of\n",
    "    the layer sizes. Shapes shown are (batchsize,pixels,pixels,channels).\n",
    "    After a call to the visualization routine, y_target will contain\n",
    "    the last set of training images, so you could feed those in here.\n",
    "    \"\"\"\n",
    "    layer_features=get_layer_activations(network,y_in)\n",
    "    #print(layer_features)\n",
    "    for idx,feature in enumerate(layer_features):\n",
    "        s=np.shape(feature)\n",
    "        print(\"Layer \"+str(idx)+\": \"+str(s[1]*s[2]*s[3])+\" neurons / \", s)\n",
    "\n",
    "def get_layer_activation_extractor(network):\n",
    "    #print(network.inputs)\n",
    "    #for layer in network.layers:\n",
    "    #    print(layer.output)\n",
    "    return(keras.Model(inputs=network.inputs,\n",
    "                            outputs=[layer.output for layer in network.layers]))\n",
    "\n",
    "def get_layer_activations(network, y_in):\n",
    "    \"\"\"\n",
    "    Call this on some test images y_in, to get the intermediate \n",
    "    layer neuron values. These are returned in a list, with one\n",
    "    entry for each layer (the entries are arrays).\n",
    "    \"\"\"\n",
    "    extractor=get_layer_activation_extractor(network)\n",
    "    #print(extractor)\n",
    "    layer_features = extractor(y_in)\n",
    "    return layer_features\n",
    "    "
   ]
  },
  {
   "cell_type": "markdown",
   "metadata": {
    "id": "MCbe0fLVoHbW"
   },
   "source": [
    "## Circle generator\n",
    "\n",
    "Below we define the circle generator function"
   ]
  },
  {
   "cell_type": "code",
   "execution_count": 3,
   "metadata": {
    "id": "2h07fJWWoHbX"
   },
   "outputs": [],
   "source": [
    "# A simple image generator that returns an array of batchsize images\n",
    "# each image has a size of x * y pixels\n",
    "# in this image each image has a randomly placed circle (and the circle is of random size)\n",
    "def circle_generator(batchsize,x,y):\n",
    "    R=np.random.uniform(size=batchsize)\n",
    "    x0=np.random.uniform(size=batchsize,low=-1,high=1)\n",
    "    y0=np.random.uniform(size=batchsize,low=-1,high=1)\n",
    "    return( 1.0*((x[None,:,:]-x0[:,None,None])**2 + (y[None,:,:]-y0[:,None,None])**2 < R[:,None,None]**2) )"
   ]
  },
  {
   "cell_type": "markdown",
   "metadata": {},
   "source": [
    "#### Example Circle\n",
    "Below, we can view an example of circles generated by the above function."
   ]
  },
  {
   "cell_type": "code",
   "execution_count": 4,
   "metadata": {
    "id": "BcTJgKDcmtEO"
   },
   "outputs": [],
   "source": [
    "# Lets see an example\n",
    "batchsize = 100\n",
    "x = np.linspace(-1, 1, 27)\n",
    "y = np.linspace(-1, 1, 27)\n",
    "X, Y = np.meshgrid(x, y)\n",
    "output = circle_generator(batchsize, X, Y)\n",
    "x_train = output"
   ]
  },
  {
   "cell_type": "code",
   "execution_count": 5,
   "metadata": {
    "colab": {
     "base_uri": "https://localhost:8080/",
     "height": 283
    },
    "id": "y-IwHfU9F0U2",
    "outputId": "44133629-a9ec-44cb-f583-dda893c9d4fc"
   },
   "outputs": [
    {
     "data": {
      "text/plain": [
       "<matplotlib.image.AxesImage at 0x17bc85ff780>"
      ]
     },
     "execution_count": 5,
     "metadata": {},
     "output_type": "execute_result"
    },
    {
     "data": {
      "image/png": "[encoded data removed]",
      "text/plain": [
       "<Figure size 432x288 with 1 Axes>"
      ]
     },
     "metadata": {
      "needs_background": "light"
     },
     "output_type": "display_data"
    }
   ],
   "source": [
    "# Show the image\n",
    "plt.imshow(x_train[0])"
   ]
  },
  {
   "cell_type": "code",
   "execution_count": 6,
   "metadata": {
    "colab": {
     "base_uri": "https://localhost:8080/"
    },
    "id": "T1bcJdYDFptl",
    "outputId": "19c635d6-812c-4659-89a5-af7ec6200c15"
   },
   "outputs": [
    {
     "data": {
      "text/plain": [
       "(27, 27)"
      ]
     },
     "execution_count": 6,
     "metadata": {},
     "output_type": "execute_result"
    }
   ],
   "source": [
    "x_train[0].shape"
   ]
  },
  {
   "cell_type": "markdown",
   "metadata": {
    "id": "qwBtfAyMGCcD"
   },
   "source": [
    "### Task 1: Implementing Bottleneck Autoencoder\n",
    "\n",
    "In this first task, a bottleneck autoencoder model will be implemented. \n",
    "\n",
    "One requirement of task 1 is to have a bottleneck layer with 9 or fewer neurons.\n",
    "\n",
    "In this task the aim is to reach a cost of 0.02 or lower."
   ]
  },
  {
   "cell_type": "markdown",
   "metadata": {
    "id": "4wDMYOvK1FOB"
   },
   "source": [
    "First an example network was used from the source notebook. This one uses the sigmoid activation in each of the layers. There are also multiple convolutional layers. The mean square error was used as the cost function.\n",
    "\n",
    "Below, we define a function to help plot and get the cost for the model."
   ]
  },
  {
   "cell_type": "code",
   "execution_count": 7,
   "metadata": {
    "id": "LWQ45XQW23u4"
   },
   "outputs": [],
   "source": [
    "def model_training(model, generator, steps, batch_size):\n",
    "\n",
    "  '''\n",
    "  Function to train the model and plot cost against steps\n",
    "  Inputs: model (autoencoder model), generator, steps, batch_size\n",
    "  Outputs: None (just the plots)\n",
    "  '''\n",
    "  # Get the cost + targets\n",
    "  cost,y_target=generate_and_train(model,circle_generator,img_size=9*3,batchsize=batch_size,steps=steps)\n",
    "\n",
    "  #Plot the cost\n",
    "  plt.figure()\n",
    "  plt.title('Cost vs Step')\n",
    "  stepArray=np.arange(steps) \n",
    "  plt.plot(stepArray,cost,linewidth=3) \n",
    "  plt.xlabel(\"Step Number\") \n",
    "  plt.ylabel(\"Cost\")\n",
    "\n",
    "  #And now when we look our model is probably doing a much better job of reproducing the image\n",
    "  plot_test_image(model,generator,9*3)\n",
    "\n",
    "  return cost"
   ]
  },
  {
   "cell_type": "markdown",
   "metadata": {},
   "source": [
    "Next, the bottleneck encoder is implemented with 9 neurons on the bottleneck layer.\n",
    "\n",
    "Another factor that was changed was the number of filters and the size of each filter. Increasing the number of filters on the convolutional layer increases the ability to learn new features from the data, but it also increases the number of parameters and complexity of the model.\n",
    "\n",
    "It was also found that too many filters could lead to overfitting as well."
   ]
  },
  {
   "cell_type": "code",
   "execution_count": 8,
   "metadata": {},
   "outputs": [
    {
     "name": "stdout",
     "output_type": "stream",
     "text": [
      "Model: \"sequential\"\n",
      "_________________________________________________________________\n",
      "Layer (type)                 Output Shape              Param #   \n",
      "=================================================================\n",
      "conv2d (Conv2D)              (None, 27, 27, 4)         40        \n",
      "_________________________________________________________________\n",
      "average_pooling2d (AveragePo (None, 9, 9, 4)           0         \n",
      "_________________________________________________________________\n",
      "conv2d_1 (Conv2D)            (None, 9, 9, 16)          592       \n",
      "_________________________________________________________________\n",
      "average_pooling2d_1 (Average (None, 3, 3, 16)          0         \n",
      "_________________________________________________________________\n",
      "conv2d_2 (Conv2D)            (None, 3, 3, 1)           145       \n",
      "_________________________________________________________________\n",
      "up_sampling2d (UpSampling2D) (None, 9, 9, 1)           0         \n",
      "_________________________________________________________________\n",
      "conv2d_3 (Conv2D)            (None, 9, 9, 16)          160       \n",
      "_________________________________________________________________\n",
      "up_sampling2d_1 (UpSampling2 (None, 27, 27, 16)        0         \n",
      "_________________________________________________________________\n",
      "conv2d_4 (Conv2D)            (None, 27, 27, 16)        2320      \n",
      "_________________________________________________________________\n",
      "conv2d_5 (Conv2D)            (None, 27, 27, 1)         145       \n",
      "=================================================================\n",
      "Total params: 3,402\n",
      "Trainable params: 3,402\n",
      "Non-trainable params: 0\n",
      "_________________________________________________________________\n",
      "Layer 0: 2916 neurons /  (30, 27, 27, 4)\n",
      "Layer 1: 324 neurons /  (30, 9, 9, 4)\n",
      "Layer 2: 1296 neurons /  (30, 9, 9, 16)\n",
      "Layer 3: 144 neurons /  (30, 3, 3, 16)\n",
      "Layer 4: 9 neurons /  (30, 3, 3, 1)\n",
      "Layer 5: 81 neurons /  (30, 9, 9, 1)\n",
      "Layer 6: 1296 neurons /  (30, 9, 9, 16)\n",
      "Layer 7: 11664 neurons /  (30, 27, 27, 16)\n",
      "Layer 8: 11664 neurons /  (30, 27, 27, 16)\n",
      "Layer 9: 729 neurons /  (30, 27, 27, 1)\n"
     ]
    }
   ],
   "source": [
    "# Bottleneck Encoder\n",
    "\n",
    "model2 = keras.models.Sequential()\n",
    "model2.add(keras.layers.Conv2D(4, 3, input_shape=(27, 27, 1),\n",
    "                               activation='relu', padding='same'))\n",
    "\n",
    "model2.add(keras.layers.AveragePooling2D(pool_size=(3, 3), padding='same'))\n",
    "model2.add(keras.layers.Conv2D(16, 3,\n",
    "                               activation='relu', padding='same'))\n",
    "\n",
    "# Bottleneck Layer\n",
    "model2.add(keras.layers.AveragePooling2D(pool_size=(3, 3), padding='same')) \n",
    "model2.add(keras.layers.Conv2D(1,3,\n",
    "               activation=\"relu\",padding='same'))\n",
    "\n",
    "model2.add(keras.layers.UpSampling2D(size=(3, 3))) \n",
    "model2.add(keras.layers.Conv2D(16, 3,\n",
    "                               activation='relu', padding='same'))\n",
    "model2.add(keras.layers.UpSampling2D(size=(3, 3))) # up\n",
    "model2.add(keras.layers.Conv2D(16, 3,\n",
    "                               activation='relu', padding='same'))\n",
    "model2.add(keras.layers.Conv2D(1, 3, activation='linear', padding='same'))\n",
    "model2.compile(loss='mean_squared_error', optimizer='adam')\n",
    "model2.summary()\n",
    "\n",
    "# Get the cost + targets\n",
    "cost,y_target=generate_and_train(model2,circle_generator,img_size=9*3,batchsize=30,steps=10)\n",
    "\n",
    "print_layers(model2, y_target)"
   ]
  },
  {
   "cell_type": "markdown",
   "metadata": {},
   "source": [
    "The above model has around 3,400 parameters.\n",
    "\n",
    "#### No. of neurons/filters\n",
    "Different numbers of neurons/filters per convolutional layer was tested and it was found that beyond 6 filters, there was no significant decrease in cost beyond approximately 0.10. Sometimes the cost reached around 0.006, however this was not consistent when the model was re-run.\n",
    "\n",
    "#### Pooling\n",
    "Different pooling was also tested. It was found that pooling too much resulted in the image being too general and losing features. A smaller pool kept more of the details and also had a larger matrix.\n"
   ]
  },
  {
   "cell_type": "code",
   "execution_count": 9,
   "metadata": {
    "colab": {
     "base_uri": "https://localhost:8080/",
     "height": 482
    },
    "id": "-umOgZseq5l4",
    "outputId": "f67c8adc-dac9-4916-fe65-4168f41f3383"
   },
   "outputs": [
    {
     "data": {
      "image/png": "[encoded data removed]",
      "text/plain": [
       "<Figure size 432x288 with 1 Axes>"
      ]
     },
     "metadata": {
      "needs_background": "light"
     },
     "output_type": "display_data"
    },
    {
     "data": {
      "image/png": "[encoded data removed]",
      "text/plain": [
       "<Figure size 432x288 with 2 Axes>"
      ]
     },
     "metadata": {
      "needs_background": "light"
     },
     "output_type": "display_data"
    }
   ],
   "source": [
    "cost = model_training(model2, circle_generator, steps=2000, batch_size=15)"
   ]
  },
  {
   "cell_type": "markdown",
   "metadata": {},
   "source": [
    "#### Steps and batch size\n",
    "After experimenting with the steps and the batch size, it was found that steps of approximately 2000+ and batch sizes < 20 provided the lowest cost. As seen in the plot above, there is a sharp decline in cost at around 0 to 200 steps, after which the decline slows but also continues. \n",
    "\n",
    "#### Note\n",
    "Another thing that was noticed was sometimes when the images were plotted, there was no circle to be seen, this was likely because the circle was generated outside of the frame."
   ]
  },
  {
   "cell_type": "code",
   "execution_count": 10,
   "metadata": {},
   "outputs": [
    {
     "name": "stdout",
     "output_type": "stream",
     "text": [
      " Final Cost: 0.015762902796268463\n"
     ]
    }
   ],
   "source": [
    "print(f\" Final Cost: {cost[-1]}\")"
   ]
  },
  {
   "cell_type": "markdown",
   "metadata": {},
   "source": [
    "#### Cost\n",
    "The final cost for this model is approximately  0.013, which is below the target cost of 0.02. However this would vary each time the code was run. Generally the final cost was approximately 0.011 to 0.017, which is below the target cost of 0.02\n",
    "\n",
    "It was found that as the number of filters and filter size was increased, the cost would decrease, however the number of parameters would also increase. If the number of filters and filter size was increased too far however, there may also be overfitting. Thus there was a trade-off observed and a reasonable balance was found."
   ]
  },
  {
   "cell_type": "markdown",
   "metadata": {},
   "source": [
    "### Task 2\n",
    "For task 2, an autoencoder will be implemented again but in this case the bottleneck layer must have 3 or fewer neurons.\n",
    "\n",
    "To ensure 3 neurons on the bottleneck layer, we will have to make sure the shape is correct, which can be done by experimenting with the pooling and upsampling layers."
   ]
  },
  {
   "cell_type": "code",
   "execution_count": 23,
   "metadata": {},
   "outputs": [
    {
     "name": "stdout",
     "output_type": "stream",
     "text": [
      "Model: \"sequential_5\"\n",
      "_________________________________________________________________\n",
      "Layer (type)                 Output Shape              Param #   \n",
      "=================================================================\n",
      "conv2d_30 (Conv2D)           (None, 27, 27, 20)        2020      \n",
      "_________________________________________________________________\n",
      "average_pooling2d_22 (Averag (None, 14, 14, 20)        0         \n",
      "_________________________________________________________________\n",
      "conv2d_31 (Conv2D)           (None, 14, 14, 4)         2004      \n",
      "_________________________________________________________________\n",
      "average_pooling2d_23 (Averag (None, 7, 7, 4)           0         \n",
      "_________________________________________________________________\n",
      "average_pooling2d_24 (Averag (None, 4, 4, 4)           0         \n",
      "_________________________________________________________________\n",
      "average_pooling2d_25 (Averag (None, 2, 2, 4)           0         \n",
      "_________________________________________________________________\n",
      "average_pooling2d_26 (Averag (None, 1, 1, 4)           0         \n",
      "_________________________________________________________________\n",
      "conv2d_32 (Conv2D)           (None, 1, 1, 3)           111       \n",
      "_________________________________________________________________\n",
      "up_sampling2d_14 (UpSampling (None, 3, 3, 3)           0         \n",
      "_________________________________________________________________\n",
      "conv2d_33 (Conv2D)           (None, 3, 3, 4)           304       \n",
      "_________________________________________________________________\n",
      "up_sampling2d_15 (UpSampling (None, 9, 9, 4)           0         \n",
      "_________________________________________________________________\n",
      "up_sampling2d_16 (UpSampling (None, 27, 27, 4)         0         \n",
      "_________________________________________________________________\n",
      "conv2d_34 (Conv2D)           (None, 27, 27, 8)         5416      \n",
      "_________________________________________________________________\n",
      "conv2d_35 (Conv2D)           (None, 27, 27, 8)         10824     \n",
      "=================================================================\n",
      "Total params: 20,679\n",
      "Trainable params: 20,679\n",
      "Non-trainable params: 0\n",
      "_________________________________________________________________\n",
      "Layer 0: 14580 neurons /  (30, 27, 27, 20)\n",
      "Layer 1: 3920 neurons /  (30, 14, 14, 20)\n",
      "Layer 2: 784 neurons /  (30, 14, 14, 4)\n",
      "Layer 3: 196 neurons /  (30, 7, 7, 4)\n",
      "Layer 4: 64 neurons /  (30, 4, 4, 4)\n",
      "Layer 5: 16 neurons /  (30, 2, 2, 4)\n",
      "Layer 6: 4 neurons /  (30, 1, 1, 4)\n",
      "Layer 7: 3 neurons /  (30, 1, 1, 3)\n",
      "Layer 8: 27 neurons /  (30, 3, 3, 3)\n",
      "Layer 9: 36 neurons /  (30, 3, 3, 4)\n",
      "Layer 10: 324 neurons /  (30, 9, 9, 4)\n",
      "Layer 11: 2916 neurons /  (30, 27, 27, 4)\n",
      "Layer 12: 5832 neurons /  (30, 27, 27, 8)\n",
      "Layer 13: 5832 neurons /  (30, 27, 27, 8)\n"
     ]
    }
   ],
   "source": [
    "# Bottleneck Encoder\n",
    "model2 = keras.models.Sequential()\n",
    "model2.add(keras.layers.Conv2D(20, 10, input_shape=(27, 27, 1),\n",
    "                               activation='relu', padding='same'))\n",
    "\n",
    "model2.add(keras.layers.AveragePooling2D(pool_size=(2, 2), padding='same'))\n",
    "model2.add(keras.layers.Conv2D(4, 5,\n",
    "                               activation='relu', padding='same'))\n",
    "# Pooling to reduce neurons\n",
    "model2.add(keras.layers.AveragePooling2D(pool_size=(2, 2), padding='same')) \n",
    "\n",
    "model2.add(keras.layers.AveragePooling2D(pool_size=(2, 2), padding='same')) \n",
    "\n",
    "model2.add(keras.layers.AveragePooling2D(pool_size=(2, 2), padding='same')) \n",
    "\n",
    "model2.add(keras.layers.AveragePooling2D(pool_size=(2, 2), padding='same')) \n",
    "model2.add(keras.layers.Conv2D(3, 3,\n",
    "                               activation='relu', padding='same'))\n",
    "model2.add(keras.layers.UpSampling2D(size=(3, 3))) \n",
    "model2.add(keras.layers.Conv2D(4, 5,\n",
    "                               activation='relu', padding='same'))\n",
    "# Increase neurons\n",
    "model2.add(keras.layers.UpSampling2D(size=(3, 3))) # up\n",
    "model2.add(keras.layers.UpSampling2D(size=(3, 3))) # up\n",
    "\n",
    "model2.add(keras.layers.Conv2D(8, 13,\n",
    "                               activation='relu', padding='same'))\n",
    "model2.add(keras.layers.Conv2D(8, 13,\n",
    "                               activation='relu', padding='same'))\n",
    "model2.compile(loss='mean_squared_error', optimizer='adam')\n",
    "model2.summary()\n",
    "\n",
    "# Get the cost + targets\n",
    "cost,y_target=generate_and_train(model2,circle_generator,img_size=9*3,batchsize=30,steps=10)\n",
    "print_layers(model2, y_target)"
   ]
  },
  {
   "cell_type": "markdown",
   "metadata": {},
   "source": [
    "The above model has approximately 20,000 parameters. It was found that many more filters and filter size was needed to even find a comparable cost as we have found in task 1. \n",
    "\n",
    "Layer 7 is the bottleneck layer, and above we can see this now has 3 neurons."
   ]
  },
  {
   "cell_type": "code",
   "execution_count": 24,
   "metadata": {},
   "outputs": [
    {
     "name": "stdout",
     "output_type": "stream",
     "text": [
      "WARNING:tensorflow:6 out of the last 6 calls to <function Model.make_predict_function.<locals>.predict_function at 0x0000017BCC1EE1E0> triggered tf.function retracing. Tracing is expensive and the excessive number of tracings could be due to (1) creating @tf.function repeatedly in a loop, (2) passing tensors with different shapes, (3) passing Python objects instead of tensors. For (1), please define your @tf.function outside of the loop. For (2), @tf.function has experimental_relax_shapes=True option that relaxes argument shapes that can avoid unnecessary retracing. For (3), please refer to https://www.tensorflow.org/guide/function#controlling_retracing and https://www.tensorflow.org/api_docs/python/tf/function for  more details.\n"
     ]
    },
    {
     "data": {
      "image/png": "[encoded data removed]",
      "text/plain": [
       "<Figure size 432x288 with 1 Axes>"
      ]
     },
     "metadata": {
      "needs_background": "light"
     },
     "output_type": "display_data"
    },
    {
     "data": {
      "image/png": "[encoded data removed]",
      "text/plain": [
       "<Figure size 432x288 with 2 Axes>"
      ]
     },
     "metadata": {
      "needs_background": "light"
     },
     "output_type": "display_data"
    }
   ],
   "source": [
    "cost = model_training(model2, circle_generator, steps=2000, batch_size=10)"
   ]
  },
  {
   "cell_type": "markdown",
   "metadata": {},
   "source": [
    "#### Cost and steps\n",
    "Again, the optimal number of steps and batch size seemed to be approximately 2000 steps and 10-15 batch size. We observe a similar plot to the one in task 1, with the trend of exponential decay persisting."
   ]
  },
  {
   "cell_type": "code",
   "execution_count": 25,
   "metadata": {},
   "outputs": [
    {
     "name": "stdout",
     "output_type": "stream",
     "text": [
      " Final Cost: 0.06278263032436371\n"
     ]
    }
   ],
   "source": [
    "print(f\" Final Cost: {cost[-1]}\")"
   ]
  },
  {
   "cell_type": "markdown",
   "metadata": {
    "id": "e7iqn04UfBsk"
   },
   "source": [
    "#### Cost\n",
    "The final cost in this case was 0.063. We can also notice in the plot of cost against step that there is a lot more noise in the cost, with wide variations in the final cost. \n",
    "\n",
    "This cost seems to vary each time the code is run, but remains in a similar region of 0.03 to 0.07.\n",
    "\n",
    "#### Note\n",
    "Again, sometimes there is no output image shown, likely due to the same reason as before.\n",
    "We also observe the output image is more faded\n",
    "\n",
    "#### Define a target\n",
    "Therefore, when defining a target cost, it may be useful to look at the range of final costs on the plot. It appears that the final cost ranges from around 0.03 to 0.06, therefore I would suggest this range would be a good target. \n",
    "\n",
    "If I was to give a specific number, we can take the average of 0.03 and 0.06, giving a target cost of 0.045.\n",
    "\n",
    "### Conclusion\n",
    "\n",
    "Task 1: In task 1, it was found that we can improve the final cost to approximately 0.01, which is almost half the original target.\n",
    "\n",
    "Task 2: In task 2, it was found that the achievable final cost with 3 neurons in the bottleneck is quite a lot higher than we found in task 1. There is quite a lot more variation in the final cost each time the code is run - so we can define our target cost to be around 0.040 or the range 0.030 to 0.070."
   ]
  },
  {
   "cell_type": "code",
   "execution_count": null,
   "metadata": {},
   "outputs": [],
   "source": []
  }
 ],
 "metadata": {
  "colab": {
   "provenance": []
  },
  "kernelspec": {
   "display_name": "Python 3",
   "language": "python",
   "name": "python3"
  },
  "language_info": {
   "codemirror_mode": {
    "name": "ipython",
    "version": 3
   },
   "file_extension": ".py",
   "mimetype": "text/x-python",
   "name": "python",
   "nbconvert_exporter": "python",
   "pygments_lexer": "ipython3",
   "version": "3.6.10"
  }
 },
 "nbformat": 4,
 "nbformat_minor": 1
}
