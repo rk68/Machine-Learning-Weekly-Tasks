{
 "cells": [
  {
   "cell_type": "markdown",
   "metadata": {
    "id": "ExP66Wc0g3QV"
   },
   "source": [
    "# Practical Machine Learning for Physicists\n",
    "## Week 4 Exercise - Part 1\n"
   ]
  },
  {
   "cell_type": "markdown",
   "metadata": {
    "id": "iDNhRCA9g3QZ"
   },
   "source": [
    "### Task 1:\n",
    "Design, implement and test a neural network utilising a single convolutional layer (use as many other non convolutional layers as you need) to classify the MNIST handwritten digits. What is the maximum test accuracy you can achieve using a single convolutional layer?\n",
    "\n",
    "### Task 2:\n",
    "Design, implement and test a neural network utitlising multiple convolutional layers (again use as many other non convolutional laters as you need) to classify the MNIST handwritten digits. What is the maximum test accuracy you can achieve using as many convolutional layers as you like?\n",
    "\n",
    "#### Practicalities\n",
    "You should use this notebook for your work and upload it to both Moodle and CoCalc. You are expected to use TensorFlow and Keras to complete these tasks. The notebook should be self-contained and able to be executed if necessary. Marks will be awarded for (roughly equally weighted):\n",
    "- Overall notebook clarity (both in terms of good coding practice and coherent discussion)\n",
    "- Network performance (how well does your classifier do?)\n",
    "- Network efficiency (how does your network compare to the optimum networks for this task?)\n",
    "- Network training (do you do a good job of traning your network?)\n"
   ]
  },
  {
   "cell_type": "markdown",
   "metadata": {},
   "source": [
    "#### Import Libraries"
   ]
  },
  {
   "cell_type": "code",
   "execution_count": 1,
   "metadata": {
    "id": "AMsK0VAug3Qc"
   },
   "outputs": [],
   "source": [
    "import matplotlib.pyplot as plt\n",
    "import numpy as np\n",
    "import math\n",
    "import time\n",
    "\n",
    "# TensorFlow and tf.keras\n",
    "import tensorflow as tf\n",
    "from tensorflow import keras\n",
    "from keras.utils import to_categorical\n",
    "from keras.models import Sequential\n",
    "from keras.layers import Conv2D, MaxPooling2D, Dropout, Flatten, Dense"
   ]
  },
  {
   "cell_type": "markdown",
   "metadata": {},
   "source": [
    "#### Import MNIST Dataset"
   ]
  },
  {
   "cell_type": "code",
   "execution_count": 2,
   "metadata": {
    "colab": {
     "base_uri": "https://localhost:8080/"
    },
    "id": "EDbMK5z3hJ30",
    "outputId": "9d131e06-84c3-4468-e0d9-f8184398b51b"
   },
   "outputs": [],
   "source": [
    "mnist = keras.datasets.mnist   #The original handwritten digit MNIST\n",
    "#mnist = keras.datasets.fashion_mnist   #A tricky version that uses images of fashion items\n",
    "(train_images1, train_labels), (test_images1, test_labels) = mnist.load_data()"
   ]
  },
  {
   "cell_type": "markdown",
   "metadata": {},
   "source": [
    "#### Data processing\n",
    "Normalise the data by dividing by 255.0 and make sure the shape of the image is correct."
   ]
  },
  {
   "cell_type": "code",
   "execution_count": 3,
   "metadata": {
    "id": "Y8k-DC_XiI36"
   },
   "outputs": [],
   "source": [
    "# Scale the data\n",
    "train_images = train_images1 / 255.0\n",
    "test_images = test_images1 / 255.0\n",
    "\n",
    "# Reshape the data\n",
    "train_images = train_images.reshape(-1, 28, 28, 1)\n",
    "test_images = test_images.reshape(-1, 28, 28, 1)"
   ]
  },
  {
   "cell_type": "markdown",
   "metadata": {},
   "source": [
    "#### Task 1\n",
    "In the cell below, the neural network model has been designed with a single convolutional layer.\n",
    "\n",
    "##### Model\n",
    "Explanation of each layer:\n",
    "\n",
    "1. Convolutional Layer (relu activation): detects some low-level features of the image \n",
    "\n",
    "2. MaxPooling2D Layer: reduces the size of the data, whilst keeping key features. It also helps to reduce overfitting by ensuring fewer parameters.\n",
    "\n",
    "3. Dropout Layer: randomly 'turns off' neurons in each step of training. Dropout rate of 0.25 means that 25% of input units are turned off.\n",
    "\n",
    "4. Flatten Layer: converts the output from the previous layer into a 1D vector\n",
    "\n",
    "5. Dense Layer (softmax activation): calculates the probabilities of the image belonging to a certain category. The softmax activation makes sure the probabilities = 1.\n",
    "\n",
    "This model has only 1 convolutional layer."
   ]
  },
  {
   "cell_type": "code",
   "execution_count": 4,
   "metadata": {
    "id": "sBPHQUQGh15B"
   },
   "outputs": [
    {
     "name": "stdout",
     "output_type": "stream",
     "text": [
      "Model: \"sequential\"\n",
      "_________________________________________________________________\n",
      "Layer (type)                 Output Shape              Param #   \n",
      "=================================================================\n",
      "conv2d (Conv2D)              (None, 26, 26, 16)        160       \n",
      "_________________________________________________________________\n",
      "max_pooling2d (MaxPooling2D) (None, 13, 13, 16)        0         \n",
      "_________________________________________________________________\n",
      "dropout (Dropout)            (None, 13, 13, 16)        0         \n",
      "_________________________________________________________________\n",
      "flatten (Flatten)            (None, 2704)              0         \n",
      "_________________________________________________________________\n",
      "dense (Dense)                (None, 10)                27050     \n",
      "=================================================================\n",
      "Total params: 27,210\n",
      "Trainable params: 27,210\n",
      "Non-trainable params: 0\n",
      "_________________________________________________________________\n"
     ]
    }
   ],
   "source": [
    "# Create the model\n",
    "model = Sequential()\n",
    "\n",
    "# Convolutional Layer\n",
    "model.add(Conv2D(16, (3, 3), activation='relu', input_shape=(28, 28, 1)))\n",
    "\n",
    "# MaxPooling layer to reduce the size of data\n",
    "model.add(MaxPooling2D((2, 2)))\n",
    "\n",
    "# Dropout layer\n",
    "model.add(Dropout(0.25)),\n",
    "\n",
    "# Flatten layer to convert to 1D vector\n",
    "model.add(Flatten()),\n",
    "\n",
    "# Dense layer with softmax activation to compute probabilities\n",
    "model.add(Dense(10, activation='softmax'))\n",
    "\n",
    "# Use adam optimiser and categorical crossentropy loss function (since its a classification task)\n",
    "model.compile(optimizer='adam', loss='sparse_categorical_crossentropy', metrics=['accuracy'])\n",
    "\n",
    "model.summary()"
   ]
  },
  {
   "cell_type": "markdown",
   "metadata": {},
   "source": [
    "Next, the model is trained. The training is timed to provide a gauge of efficiency, however this runtime will vary depending on the PC the code is run on."
   ]
  },
  {
   "cell_type": "code",
   "execution_count": 5,
   "metadata": {
    "colab": {
     "base_uri": "https://localhost:8080/"
    },
    "id": "2qLD3gaGh7hE",
    "outputId": "addcb6cd-caf6-42df-b4ee-97d687053d28",
    "scrolled": false
   },
   "outputs": [
    {
     "name": "stdout",
     "output_type": "stream",
     "text": [
      "Epoch 1/10\n",
      "469/469 [==============================] - 7s 15ms/step - loss: 0.7807 - accuracy: 0.7956 - val_loss: 0.2116 - val_accuracy: 0.9401\n",
      "Epoch 2/10\n",
      "469/469 [==============================] - 7s 15ms/step - loss: 0.2148 - accuracy: 0.9392 - val_loss: 0.1392 - val_accuracy: 0.9597\n",
      "Epoch 3/10\n",
      "469/469 [==============================] - 6s 14ms/step - loss: 0.1561 - accuracy: 0.9546 - val_loss: 0.1150 - val_accuracy: 0.9675\n",
      "Epoch 4/10\n",
      "469/469 [==============================] - 7s 14ms/step - loss: 0.1322 - accuracy: 0.9614 - val_loss: 0.0945 - val_accuracy: 0.9720\n",
      "Epoch 5/10\n",
      "469/469 [==============================] - 7s 14ms/step - loss: 0.1137 - accuracy: 0.9669 - val_loss: 0.0827 - val_accuracy: 0.9750\n",
      "Epoch 6/10\n",
      "469/469 [==============================] - 7s 15ms/step - loss: 0.1024 - accuracy: 0.9698 - val_loss: 0.0755 - val_accuracy: 0.9753\n",
      "Epoch 7/10\n",
      "469/469 [==============================] - 7s 14ms/step - loss: 0.0918 - accuracy: 0.9723 - val_loss: 0.0679 - val_accuracy: 0.9782\n",
      "Epoch 8/10\n",
      "469/469 [==============================] - 6s 14ms/step - loss: 0.0845 - accuracy: 0.9745 - val_loss: 0.0665 - val_accuracy: 0.9795\n",
      "Epoch 9/10\n",
      "469/469 [==============================] - 6s 14ms/step - loss: 0.0799 - accuracy: 0.9754 - val_loss: 0.0637 - val_accuracy: 0.9797\n",
      "Epoch 10/10\n",
      "469/469 [==============================] - 7s 15ms/step - loss: 0.0708 - accuracy: 0.9787 - val_loss: 0.0571 - val_accuracy: 0.9814\n",
      "Time: 67.70\n"
     ]
    }
   ],
   "source": [
    "t0 = time.time()\n",
    "history = model.fit(train_images, train_labels, batch_size=128, epochs=10, verbose=1, validation_data=(test_images, test_labels))\n",
    "t1 = time.time()\n",
    "\n",
    "print(f\"Time: {t1-t0 :.2f}\")"
   ]
  },
  {
   "cell_type": "markdown",
   "metadata": {},
   "source": [
    "After varying the number of epochs on the model above and plotting cost against epochs, it was found that approx. 10 epochs led to the least overfitting. Therefore 10 epochs was chosen to train this model."
   ]
  },
  {
   "cell_type": "markdown",
   "metadata": {},
   "source": [
    "#### Test Accuracy\n",
    "Below we check the test accuracy of the model"
   ]
  },
  {
   "cell_type": "code",
   "execution_count": 6,
   "metadata": {
    "id": "isELfWjkikiK"
   },
   "outputs": [
    {
     "name": "stdout",
     "output_type": "stream",
     "text": [
      "Test accuracy: 0.9814000129699707\n"
     ]
    }
   ],
   "source": [
    "test_loss, test_accuracy = model.evaluate(test_images, test_labels, verbose=0)\n",
    "print('Test accuracy:', test_accuracy)"
   ]
  },
  {
   "cell_type": "markdown",
   "metadata": {},
   "source": [
    "The test accuracy is approximately 0.98 to 0.99, which is very high (above 95%). "
   ]
  },
  {
   "cell_type": "markdown",
   "metadata": {},
   "source": [
    "#### Training and Validation Accuracy\n",
    "Below we plot the accuracy of the model on the training set and on the validation set. "
   ]
  },
  {
   "cell_type": "code",
   "execution_count": 7,
   "metadata": {},
   "outputs": [
    {
     "data": {
      "text/plain": [
       "<matplotlib.legend.Legend at 0x27ae0aa97f0>"
      ]
     },
     "execution_count": 7,
     "metadata": {},
     "output_type": "execute_result"
    },
    {
     "data": {
      "image/png": "[encoded data removed]",
      "text/plain": [
       "<Figure size 432x288 with 1 Axes>"
      ]
     },
     "metadata": {
      "needs_background": "light"
     },
     "output_type": "display_data"
    }
   ],
   "source": [
    "# Plot\n",
    "plt.figure()\n",
    "plt.title('Accuracy vs Epoch')\n",
    "plt.plot(history.history['accuracy'], label='Train Accuracy')\n",
    "plt.plot(history.history['val_accuracy'], label = 'Validate Accuracy')\n",
    "plt.xlabel('Epoch')\n",
    "plt.ylabel('Accuracy')\n",
    "plt.legend(loc='lower right')"
   ]
  },
  {
   "cell_type": "markdown",
   "metadata": {},
   "source": [
    "When varying the number of epochs, it was found that beyond 10 epochs, the validation accuracy would no longer increase with the training accuracy, suggesting overfitting of the model. Therefore 10 epochs was used."
   ]
  },
  {
   "cell_type": "markdown",
   "metadata": {},
   "source": [
    "#### Training and Validation Loss\n",
    "Below, the loss was plotted against epochs, for both the training and validation loss."
   ]
  },
  {
   "cell_type": "code",
   "execution_count": 8,
   "metadata": {},
   "outputs": [
    {
     "data": {
      "image/png": "[encoded data removed]",
      "text/plain": [
       "<Figure size 432x288 with 1 Axes>"
      ]
     },
     "metadata": {
      "needs_background": "light"
     },
     "output_type": "display_data"
    }
   ],
   "source": [
    "# Plot the training and validation loss\n",
    "plt.figure()\n",
    "plt.title('Loss vs Epoch')\n",
    "plt.plot(history.history['loss'], label='Training Loss')\n",
    "plt.plot(history.history['val_loss'], label='Validation Loss')\n",
    "plt.xlabel('Epoch')\n",
    "plt.ylabel('Loss')\n",
    "plt.legend()\n",
    "plt.show()"
   ]
  },
  {
   "cell_type": "markdown",
   "metadata": {
    "id": "ynaKqTvmiAUM"
   },
   "source": [
    "Again, when varying epochs, it was found that the loss does not really go any lower beyond 10 epochs, so 10 epochs was maintained."
   ]
  },
  {
   "cell_type": "markdown",
   "metadata": {
    "id": "R2aVPamPkDW3"
   },
   "source": [
    "### Task 2\n",
    "\n",
    "In this task I will design, implement and test a neural network utitlising multiple convolutional layers and other non-convolutional layers to classify the MNIST handwritten digits. \n",
    "\n",
    "The aim is to find the maximum test accuracy using this method."
   ]
  },
  {
   "cell_type": "markdown",
   "metadata": {},
   "source": [
    "#### Reload the dataset"
   ]
  },
  {
   "cell_type": "code",
   "execution_count": 9,
   "metadata": {},
   "outputs": [],
   "source": [
    "# Load the MNIST data\n",
    "(train_images2, train_labels), (test_images2, test_labels) = keras.datasets.mnist.load_data()\n",
    "\n",
    "# Scale the data\n",
    "train_images = train_images2 / 255.0\n",
    "test_images = test_images2 / 255.0\n",
    "\n",
    "# Reshape the data\n",
    "train_images = train_images.reshape(-1, 28, 28, 1)\n",
    "test_images = test_images.reshape(-1, 28, 28, 1)"
   ]
  },
  {
   "cell_type": "markdown",
   "metadata": {},
   "source": [
    "#### Create the new model"
   ]
  },
  {
   "cell_type": "markdown",
   "metadata": {},
   "source": [
    "This new model has multiple convolutional layers (3 of them), and each of these has a larger number of neurons than before."
   ]
  },
  {
   "cell_type": "code",
   "execution_count": 10,
   "metadata": {
    "id": "XQRKEGaukFEI",
    "scrolled": false
   },
   "outputs": [
    {
     "name": "stdout",
     "output_type": "stream",
     "text": [
      "Model: \"sequential_1\"\n",
      "_________________________________________________________________\n",
      "Layer (type)                 Output Shape              Param #   \n",
      "=================================================================\n",
      "conv2d_1 (Conv2D)            (None, 26, 26, 16)        160       \n",
      "_________________________________________________________________\n",
      "max_pooling2d_1 (MaxPooling2 (None, 13, 13, 16)        0         \n",
      "_________________________________________________________________\n",
      "conv2d_2 (Conv2D)            (None, 11, 11, 16)        2320      \n",
      "_________________________________________________________________\n",
      "max_pooling2d_2 (MaxPooling2 (None, 5, 5, 16)          0         \n",
      "_________________________________________________________________\n",
      "conv2d_3 (Conv2D)            (None, 3, 3, 16)          2320      \n",
      "_________________________________________________________________\n",
      "flatten_1 (Flatten)          (None, 144)               0         \n",
      "_________________________________________________________________\n",
      "dense_1 (Dense)              (None, 16)                2320      \n",
      "_________________________________________________________________\n",
      "dense_2 (Dense)              (None, 10)                170       \n",
      "=================================================================\n",
      "Total params: 7,290\n",
      "Trainable params: 7,290\n",
      "Non-trainable params: 0\n",
      "_________________________________________________________________\n"
     ]
    }
   ],
   "source": [
    "# Create the model\n",
    "model2 = Sequential()\n",
    "\n",
    "# Convolutional Layer\n",
    "model2.add(Conv2D(16, (3, 3), activation='relu', input_shape=(28, 28, 1)))\n",
    "\n",
    "# MaxPooling\n",
    "model2.add(MaxPooling2D((2, 2)))\n",
    "\n",
    "# Convolutional Layer\n",
    "model2.add(Conv2D(16, (3, 3), activation='relu'))\n",
    "\n",
    "# MaxPooling\n",
    "model2.add(MaxPooling2D((2, 2)))\n",
    "\n",
    "# Convolutional Layer\n",
    "model2.add(Conv2D(16, (3, 3), activation='relu'))\n",
    "\n",
    "# Flatten Layer\n",
    "model2.add(Flatten())\n",
    "\n",
    "# Dense Layers\n",
    "model2.add(Dense(16, activation='relu'))\n",
    "\n",
    "# Softmax output layer (10 neurons as there are 10 digits)\n",
    "model2.add(Dense(10, activation='softmax'))\n",
    "\n",
    "# Compile the model\n",
    "model2.compile(optimizer='adam',\n",
    "              loss='sparse_categorical_crossentropy',\n",
    "              metrics=['accuracy'])\n",
    "model2.summary()\n"
   ]
  },
  {
   "cell_type": "markdown",
   "metadata": {},
   "source": [
    "As shown in the above summary, the new network with multiple convolutional layers (and more neurons per layer) has significantly more total parameters. This means that it will also take longer to train."
   ]
  },
  {
   "cell_type": "markdown",
   "metadata": {},
   "source": [
    "#### Training the model"
   ]
  },
  {
   "cell_type": "code",
   "execution_count": 11,
   "metadata": {
    "id": "NGCfsVJOlEtC"
   },
   "outputs": [
    {
     "name": "stdout",
     "output_type": "stream",
     "text": [
      "Epoch 1/10\n",
      "600/600 [==============================] - 9s 15ms/step - loss: 0.9931 - accuracy: 0.6734 - val_loss: 0.1404 - val_accuracy: 0.9569\n",
      "Epoch 2/10\n",
      "600/600 [==============================] - 8s 14ms/step - loss: 0.1443 - accuracy: 0.9563 - val_loss: 0.1004 - val_accuracy: 0.9681\n",
      "Epoch 3/10\n",
      "600/600 [==============================] - 9s 14ms/step - loss: 0.0970 - accuracy: 0.9705 - val_loss: 0.0739 - val_accuracy: 0.9774\n",
      "Epoch 4/10\n",
      "600/600 [==============================] - 9s 15ms/step - loss: 0.0773 - accuracy: 0.9767 - val_loss: 0.0783 - val_accuracy: 0.9758\n",
      "Epoch 5/10\n",
      "600/600 [==============================] - 9s 15ms/step - loss: 0.0658 - accuracy: 0.9797 - val_loss: 0.0576 - val_accuracy: 0.9814\n",
      "Epoch 6/10\n",
      "600/600 [==============================] - 8s 14ms/step - loss: 0.0582 - accuracy: 0.9816 - val_loss: 0.0662 - val_accuracy: 0.9789\n",
      "Epoch 7/10\n",
      "600/600 [==============================] - 9s 15ms/step - loss: 0.0521 - accuracy: 0.9837 - val_loss: 0.0655 - val_accuracy: 0.9808\n",
      "Epoch 8/10\n",
      "600/600 [==============================] - 11s 18ms/step - loss: 0.0486 - accuracy: 0.9842 - val_loss: 0.0486 - val_accuracy: 0.9839\n",
      "Epoch 9/10\n",
      "600/600 [==============================] - 9s 16ms/step - loss: 0.0413 - accuracy: 0.9870 - val_loss: 0.0472 - val_accuracy: 0.9848\n",
      "Epoch 10/10\n",
      "600/600 [==============================] - 9s 16ms/step - loss: 0.0419 - accuracy: 0.9870 - val_loss: 0.0439 - val_accuracy: 0.9853\n",
      "Time: 91.01\n"
     ]
    }
   ],
   "source": [
    "t0 = time.time()\n",
    "history = model2.fit(train_images, train_labels, batch_size=100, epochs=10, verbose=1, validation_data=(test_images, test_labels))\n",
    "t1 = time.time()\n",
    "\n",
    "print(f\"Time: {t1-t0 :.2f}\")"
   ]
  },
  {
   "cell_type": "markdown",
   "metadata": {},
   "source": [
    "#### Test Accuracy"
   ]
  },
  {
   "cell_type": "code",
   "execution_count": 12,
   "metadata": {},
   "outputs": [
    {
     "name": "stdout",
     "output_type": "stream",
     "text": [
      "Test accuracy: 0.9853000044822693\n"
     ]
    }
   ],
   "source": [
    "test_loss, test_accuracy = model2.evaluate(test_images, test_labels, verbose=0)\n",
    "print('Test accuracy:', test_accuracy)"
   ]
  },
  {
   "cell_type": "markdown",
   "metadata": {},
   "source": [
    "Above we see there has been an improvement in the test accuracy of approximately 0.01 when the number of convolutional layers is increased. Though this means near perfect accuracy, the increase from 0.98 to 0.99 is probably not worth the additional increase in runtime (around 50 seconds on my PC)."
   ]
  },
  {
   "cell_type": "markdown",
   "metadata": {},
   "source": [
    "#### Training and Validation Accuracy"
   ]
  },
  {
   "cell_type": "code",
   "execution_count": 13,
   "metadata": {},
   "outputs": [
    {
     "data": {
      "text/plain": [
       "<matplotlib.legend.Legend at 0x27ade7c7978>"
      ]
     },
     "execution_count": 13,
     "metadata": {},
     "output_type": "execute_result"
    },
    {
     "data": {
      "image/png": "[encoded data removed]",
      "text/plain": [
       "<Figure size 432x288 with 1 Axes>"
      ]
     },
     "metadata": {
      "needs_background": "light"
     },
     "output_type": "display_data"
    }
   ],
   "source": [
    "fig,ax=plt.subplots()\n",
    "ax.plot(history.history['accuracy'], label='Train Accuracy')\n",
    "ax.plot(history.history['val_accuracy'], label = 'Validate Accuracy')\n",
    "ax.set_xlabel('Epoch')\n",
    "ax.set_ylabel('Accuracy')\n",
    "plt.legend(loc='lower right')"
   ]
  },
  {
   "cell_type": "markdown",
   "metadata": {},
   "source": [
    "In the above plot, we can see the training and validation accuracy is slightly higher than before. It can also be seen that at around 2 epochs, the training accuracy continues to increase but for validation accuracy it does not increase by the same amount. This suggests there may be overfitting from around 3 epochs onwards."
   ]
  },
  {
   "cell_type": "markdown",
   "metadata": {},
   "source": [
    "#### Training and Validation Loss"
   ]
  },
  {
   "cell_type": "code",
   "execution_count": 14,
   "metadata": {},
   "outputs": [
    {
     "data": {
      "image/png": "[encoded data removed]",
      "text/plain": [
       "<Figure size 432x288 with 1 Axes>"
      ]
     },
     "metadata": {
      "needs_background": "light"
     },
     "output_type": "display_data"
    }
   ],
   "source": [
    "# Plot the training and validation loss\n",
    "plt.figure()\n",
    "plt.title('Loss vs Epoch')\n",
    "plt.plot(history.history['loss'], label='Training Loss')\n",
    "plt.plot(history.history['val_loss'], label='Validation Loss')\n",
    "plt.xlabel('Epoch')\n",
    "plt.ylabel('Loss')\n",
    "plt.legend()\n",
    "plt.show()"
   ]
  },
  {
   "cell_type": "markdown",
   "metadata": {},
   "source": [
    "The loss is shown above."
   ]
  },
  {
   "cell_type": "markdown",
   "metadata": {},
   "source": [
    "### Conclusion\n",
    "\n",
    "Overall, after completing task 1 and 2, we can observe that adding further convolutional layers (and other layers) can improve our accuracy, however the improvement is not extremely significant (<0.01 increase), whilst the run-time and number of parameters increases by quite a lot (around 54,000 vs 93,000). Therefore we can conclude, for cases such as the one where we are recognising digits, it is probably not worth increasing the number of convolutional layers for such a small\n",
    "improvement. \n",
    "\n",
    "Furthermore, we may also conclude that the effect of overfitting will prevent the model from reaching 100% accuracy, regardless of the number of layers used (or at least the layers I have tried in this notebook).\n",
    "\n",
    "\n",
    "Perhaps if we had a more complex dataset, e.g. the fashion items dataset, it would be useful to have additional convolutional layers."
   ]
  },
  {
   "cell_type": "code",
   "execution_count": null,
   "metadata": {},
   "outputs": [],
   "source": []
  }
 ],
 "metadata": {
  "colab": {
   "provenance": []
  },
  "kernelspec": {
   "display_name": "Python 3",
   "language": "python",
   "name": "python3"
  },
  "language_info": {
   "codemirror_mode": {
    "name": "ipython",
    "version": 3
   },
   "file_extension": ".py",
   "mimetype": "text/x-python",
   "name": "python",
   "nbconvert_exporter": "python",
   "pygments_lexer": "ipython3",
   "version": "3.6.10"
  }
 },
 "nbformat": 4,
 "nbformat_minor": 1
}
